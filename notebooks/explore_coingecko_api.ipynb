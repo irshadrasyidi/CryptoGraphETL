{
 "cells": [
  {
   "cell_type": "code",
   "execution_count": null,
   "id": "1b8a5b45",
   "metadata": {},
   "outputs": [],
   "source": [
    "import requests\n",
    "import json\n",
    "\n",
    "baseURL = \"https://api.coingecko.com/api/v3\"\n",
    "landing_folder = \"../data/crypto/\"\n",
    "\n",
    "# yg bakal dipake\n",
    "# endpoint_coins_markets\n",
    "\n",
    "id_url = \"bitcoin\"\n",
    "\n",
    "endpoint_ping = \"/ping\"\n",
    "endpoint_simple_price = \"/simple/price\"\n",
    "endpoint_supported_vs_currencies = \"/simple/supported_vs_currencies\"\n",
    "\n",
    "endpoint_coins_list = \"/coins/list\"\n",
    "endpoint_coins_markets = \"/coins/markets\"\n",
    "endpoint_coins_id = \"/coins/\"\n",
    "endpoint_coins_market_chart = \"/coins/\" + id_url + \"/market_chart\"\n",
    "endpoint_coins_market_chart_range = \"/coins/\" + id_url + \"/market_chart/range\"\n",
    "\n",
    "endpoint_exchanges_list = \"/exchanges/list\"\n",
    "\n",
    "params_empty = {}\n",
    "\n",
    "params_simple_price = {\n",
    "    \"ids\": \"bitcoin\",\n",
    "    \"vs_currencies\": \"idr\",\n",
    "}\n",
    "\n",
    "params_coins_markets = {\n",
    "    \"vs_currency\": \"usd\",\n",
    "    \"ids\": \"bitcoin,ethereum,binancecoin,ripple,solana,cardano,dogecoin,tron\",\n",
    "}\n",
    "\n",
    "params_coins_id = {\n",
    "    \"id\": \"bitcoin\",\n",
    "    \"tickers\": \"false\",\n",
    "}\n",
    "\n",
    "params_coins_market_chart = {\n",
    "    \"vs_currency\": \"idr\",\n",
    "    \"days\": \"30\",\n",
    "    \"interval\": \"daily\",\n",
    "}\n",
    "\n",
    "params_coins_market_chart_range = {\n",
    "    \"vs_currency\": \"idr\",\n",
    "    \"from\": \"1434796113\",\n",
    "    \"to\": \"1687256913\",\n",
    "}"
   ]
  },
  {
   "cell_type": "code",
   "execution_count": null,
   "id": "cbf4d1a8",
   "metadata": {},
   "outputs": [],
   "source": [
    "requestURL = baseURL + endpoint_coins_markets\n",
    "print(requestURL)\n",
    "\n",
    "r = requests.get(requestURL, params=params_coins_markets)\n",
    "\n",
    "print(r.url)\n",
    "\n",
    "pretty_json = json.loads(r.text)\n",
    "print(json.dumps(pretty_json, indent=2))\n",
    "\n",
    "with open(landing_folder + \"tes_dump.json\", \"w\") as write_file:\n",
    "    json.dump(pretty_json, write_file, indent=2) # 3 KB"
   ]
  },
  {
   "cell_type": "code",
   "execution_count": null,
   "id": "5973b502",
   "metadata": {},
   "outputs": [],
   "source": [
    "import pandas as pd"
   ]
  },
  {
   "cell_type": "code",
   "execution_count": null,
   "id": "760a0083",
   "metadata": {},
   "outputs": [],
   "source": [
    "df = pd.json_normalize(pretty_json)"
   ]
  },
  {
   "cell_type": "code",
   "execution_count": null,
   "id": "128a6700",
   "metadata": {},
   "outputs": [],
   "source": [
    "df.dtypes\n",
    "df.columns"
   ]
  },
  {
   "cell_type": "code",
   "execution_count": null,
   "id": "877767ad",
   "metadata": {},
   "outputs": [],
   "source": [
    "df[['id', 'symbol', 'name', 'image', 'current_price', 'market_cap',\n",
    "       'market_cap_rank', 'fully_diluted_valuation', 'total_volume',\n",
    "       'high_24h', 'low_24h', 'price_change_24h']]\n",
    "df[['price_change_percentage_24h', 'market_cap_change_24h',\n",
    "       'market_cap_change_percentage_24h', 'circulating_supply',\n",
    "       'total_supply', 'max_supply', 'ath', 'ath_change_percentage']]\n",
    "df[['ath_date', 'atl', 'atl_change_percentage', 'atl_date', 'roi',\n",
    "       'last_updated', 'roi.times', 'roi.currency', 'roi.percentage']]\n",
    "# df['image']"
   ]
  },
  {
   "cell_type": "code",
   "execution_count": null,
   "id": "3cb5ca61",
   "metadata": {},
   "outputs": [],
   "source": [
    "df_exclude = df.drop(columns=['image', 'roi', 'roi.times', 'roi.currency', 'roi.percentage'])"
   ]
  },
  {
   "cell_type": "code",
   "execution_count": null,
   "id": "8473b1a8",
   "metadata": {},
   "outputs": [],
   "source": [
    "df_exclude"
   ]
  },
  {
   "cell_type": "code",
   "execution_count": null,
   "id": "04756a22",
   "metadata": {},
   "outputs": [],
   "source": [
    "df_exclude.dtypes"
   ]
  },
  {
   "cell_type": "code",
   "execution_count": null,
   "id": "79801187",
   "metadata": {},
   "outputs": [],
   "source": [
    "df_split = []\n",
    "coin_list = ['btc', 'eth', 'bnb', 'xrp', 'sol', 'ada', 'doge', 'trx']\n",
    "\n",
    "# df_exclude.iloc[0:1]\n",
    "\n",
    "for row in df_exclude.index:\n",
    "    temp_df = (df_exclude.iloc[row:row+1]).reset_index(drop=True)\n",
    "    temp_df.to_csv(landing_folder + \"tes_dump_\" + coin_list[row] + \".csv\")\n",
    "    df_split.append(temp_df)\n",
    "    # print(df_exclude.iloc[row:row+1])"
   ]
  },
  {
   "cell_type": "code",
   "execution_count": null,
   "id": "79c7c8c6",
   "metadata": {},
   "outputs": [],
   "source": [
    "type(df_split[1])"
   ]
  },
  {
   "cell_type": "code",
   "execution_count": null,
   "id": "50c6c9d9",
   "metadata": {},
   "outputs": [],
   "source": [
    "df.to_csv(landing_folder + \"tes_dump.csv\") # 2 KB\n",
    "df.to_parquet(landing_folder + \"tes_dump_fp.pq\", engine=\"fastparquet\") # 9 KB\n",
    "df.to_parquet(landing_folder + \"tes_dump_pa.pq\", engine=\"pyarrow\") # 22 KB"
   ]
  }
 ],
 "metadata": {
  "kernelspec": {
   "display_name": "Python 3",
   "language": "python",
   "name": "python3"
  },
  "language_info": {
   "codemirror_mode": {
    "name": "ipython",
    "version": 3
   },
   "file_extension": ".py",
   "mimetype": "text/x-python",
   "name": "python",
   "nbconvert_exporter": "python",
   "pygments_lexer": "ipython3",
   "version": "3.9.16"
  }
 },
 "nbformat": 4,
 "nbformat_minor": 5
}
