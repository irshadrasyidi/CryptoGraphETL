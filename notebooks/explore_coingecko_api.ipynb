{
 "cells": [
  {
   "cell_type": "code",
   "execution_count": null,
   "id": "1b8a5b45",
   "metadata": {},
   "outputs": [],
   "source": [
    "import requests\n",
    "import json\n",
    "\n",
    "baseURL = \"https://api.coingecko.com/api/v3\"\n",
    "landing_folder = \"\"\n",
    "\n",
    "# yg bakal dipake\n",
    "# endpoint_coins_markets\n",
    "\n",
    "endpoint_ping = \"/ping\"\n",
    "endpoint_simple_price = \"/simple/price\"\n",
    "endpoint_supported_vs_currencies = \"/simple/supported_vs_currencies\"\n",
    "\n",
    "endpoint_coins_list = \"/coins/list\"\n",
    "endpoint_coins_markets = \"/coins/markets\"\n",
    "endpoint_coins_id = \"/coins/\"\n",
    "\n",
    "endpoint_exchanges_list = \"/exchanges/list\"\n",
    "\n",
    "params_simple_price = {\n",
    "    \"ids\": \"bitcoin\",\n",
    "    \"vs_currencies\": \"idr\",\n",
    "}\n",
    "\n",
    "params_coins_markets = {\n",
    "    \"vs_currency\": \"usd\",\n",
    "    \"ids\": \"bitcoin,ethereum,binancecoin\",\n",
    "}\n",
    "\n",
    "params_coins_id = {\n",
    "    \"id\": \"bitcoin\",\n",
    "    \"tickers\": \"false\",\n",
    "}"
   ]
  },
  {
   "cell_type": "code",
   "execution_count": null,
   "id": "cbf4d1a8",
   "metadata": {},
   "outputs": [],
   "source": [
    "requestURL = baseURL + endpoint_coins_markets\n",
    "print(requestURL)\n",
    "\n",
    "r = requests.get(requestURL, params=params_coins_markets)\n",
    "\n",
    "print(r.url)\n",
    "\n",
    "pretty_json = json.loads(r.text)\n",
    "print(json.dumps(pretty_json, indent=2))\n",
    "\n",
    "# with open(landing_folder + \"\\\\tes_dump.json\", \"w\") as write_file:\n",
    "#     json.dump(pretty_json, write_file, indent=2)"
   ]
  },
  {
   "cell_type": "code",
   "execution_count": null,
   "id": "5973b502",
   "metadata": {},
   "outputs": [],
   "source": []
  },
  {
   "cell_type": "code",
   "execution_count": null,
   "id": "760a0083",
   "metadata": {},
   "outputs": [],
   "source": []
  }
 ],
 "metadata": {
  "kernelspec": {
   "display_name": "Python 3",
   "language": "python",
   "name": "python3"
  },
  "language_info": {
   "codemirror_mode": {
    "name": "ipython",
    "version": 3
   },
   "file_extension": ".py",
   "mimetype": "text/x-python",
   "name": "python",
   "nbconvert_exporter": "python",
   "pygments_lexer": "ipython3",
   "version": "3.9.16"
  }
 },
 "nbformat": 4,
 "nbformat_minor": 5
}
